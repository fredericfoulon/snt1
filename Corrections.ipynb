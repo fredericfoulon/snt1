{
 "cells": [
  {
   "cell_type": "code",
   "execution_count": 1,
   "metadata": {},
   "outputs": [
    {
     "name": "stdout",
     "output_type": "stream",
     "text": [
      "0 × 9 = 0\n",
      "1 × 9 = 9\n",
      "2 × 9 = 18\n",
      "3 × 9 = 27\n",
      "4 × 9 = 36\n",
      "5 × 9 = 45\n",
      "6 × 9 = 54\n",
      "7 × 9 = 63\n",
      "8 × 9 = 72\n",
      "9 × 9 = 81\n"
     ]
    }
   ],
   "source": [
    "for i in range (10): \n",
    "    print(i, \"×\", \"9\",\"=\",9*i)\n",
    "    "
   ]
  },
  {
   "cell_type": "markdown",
   "metadata": {},
   "source": [
    "### Exercice 3\n",
    "\n",
    "Ecrire dans le cadre de code ci-dessous, un programme en Python qui demande un nombre entier et qui affiche la table de multiplication de ce nombre.\n",
    "\n",
    "Par exemple, si on entre 12, le programme affiche\n",
    "\n",
    "0 \\* 12 = 0<br>1 \\* 12 = 12<br>2 \\* 12 = 24<br>3 \\* 12 = 36<br>4 \\* 12 = 48<br>5 \\* 12 = 60<br>6 \\* 12 = 72<br>7 \\* 12 = 84<br>8 \\* 12 = 96<br>9 \\* 12 = 108<br>10 \\* 12 = 120"
   ]
  },
  {
   "cell_type": "code",
   "execution_count": null,
   "metadata": {},
   "outputs": [],
   "source": []
  }
 ],
 "metadata": {
  "kernelspec": {
   "display_name": "Python 3",
   "language": "python",
   "name": "python3"
  },
  "language_info": {
   "codemirror_mode": {
    "name": "ipython",
    "version": 3
   },
   "file_extension": ".py",
   "mimetype": "text/x-python",
   "name": "python",
   "nbconvert_exporter": "python",
   "pygments_lexer": "ipython3",
   "version": "3.7.0"
  }
 },
 "nbformat": 4,
 "nbformat_minor": 2
}
